{
 "cells": [
  {
   "cell_type": "code",
   "execution_count": 1,
   "metadata": {},
   "outputs": [],
   "source": [
    "import os\n",
    "import re\n",
    "import nltk\n",
    "import pandas as pd\n",
    "from nltk.corpus import stopwords\n",
    "from nltk.stem import WordNetLemmatizer\n",
    "from nltk.tokenize import word_tokenize\n",
    "from tqdm import tqdm"
   ]
  },
  {
   "cell_type": "code",
   "execution_count": 3,
   "metadata": {},
   "outputs": [],
   "source": [
    "def download_nltk_data():\n",
    "    datasets = [\"stopwords\", \"wordnet\", \"punkt\"]\n",
    "    for dataset in datasets:\n",
    "        try:\n",
    "            nltk.data.find(f'corpora/{dataset}')\n",
    "        except LookupError:\n",
    "            nltk.download(dataset)\n",
    "\n",
    "\n",
    "def preprocess_text(text, stop_words, lemmatizer):\n",
    "    if pd.isna(text):\n",
    "        return ''\n",
    "\n",
    "    # Cleaning operations\n",
    "    text = re.sub(r'http\\S+', '', text)\n",
    "    text = re.sub(r'<.*?>', '', text)\n",
    "    text = re.sub(r'\\d+', '', text)\n",
    "    text = re.sub(r'\\b\\w{1,2}\\b', '', text)\n",
    "    text = re.sub(r'[^A-Za-z0-9]+', ' ', text)\n",
    "\n",
    "    words = word_tokenize(text.lower())\n",
    "    words = [lemmatizer.lemmatize(word) for word in words if word not in stop_words]\n",
    "\n",
    "    return ' '.join(words)"
   ]
  },
  {
   "cell_type": "code",
   "execution_count": 4,
   "metadata": {},
   "outputs": [],
   "source": [
    "def preprocess_data(input_file, output_file, chunk_size=50000):\n",
    "    download_nltk_data()\n",
    "\n",
    "    stop_words = set(stopwords.words('english'))\n",
    "    custom_stopwords = [\n",
    "        \"ability\", \"able\", \"absolute\", \"absolutely\", \"account\", \"accurate\", \"achieve\", \"address\",\n",
    "        \"allowing\", \"also\", \"analyze\", \"analyzes\", \"answer\", \"application\", \"approach\",\n",
    "        \"around\", \"article\", \"aspect\", \"audience\", \"author\", \"available\", \"based\", \"begin\", \"best\", \"better\",\n",
    "        \"beyond\", \"bound\", \"brief\", \"called\", \"capable\", \"capture\", \"carefully\", \"case\", \"certain\", \"challenging\",\n",
    "        \"compare\", \"complex\", \"component\", \"comprehensive\", \"concept\", \"conceptual\",\n",
    "        \"conclusion\", \"condition\", \"conduct\", \"conjecture\", \"consider\", \"construct\", \"content\", \"context\", \"cost\",\n",
    "        \"cross\", \"crucial\", \"current\", \"demonstrate\", \"derive\", \"derived\", \"describe\",\n",
    "        \"described\", \"describes\", \"detailed\", \"determine\", \"developed\", \"different\", \"difficult\", \"directly\",\n",
    "        \"discourse\", \"discuss\", \"distinguish\", \"driven\", \"due\", \"effect\", \"effective\", \"efficient\", \"efficiently\",\n",
    "        \"eight\", \"element\", \"emphasis\", \"end\", \"evaluate\", \"even\", \"example\", \"experiment\", \"experimental\",\n",
    "        \"explain\", \"extensive\", \"family\", \"feature\", \"figure\", \"find\", \"fine\", \"finite\", \"finitely\", \"first\",\n",
    "        \"fit\", \"five\", \"found\", \"four\", \"framework\", \"function\", \"fundamental\", \"future\", \"general\", \"give\",\n",
    "        \"given\", \"good\", \"grained\", \"graph\", \"group\", \"handed\", \"high\", \"higher\", \"however\", \"illustrate\", \"impact\",\n",
    "        \"implement\", \"important\", \"include\", \"integrate\", \"interest\", \"introduce\", \"introduced\", \"introduction\",\n",
    "        \"investigate\", \"issue\", \"iteration\", \"known\", \"large\", \"last\", \"left\", \"let\", \"long\", \"low\", \"lower\", \"make\",\n",
    "        \"many\", \"maximal\", \"may\", \"method\", \"methodology\", \"minimal\", \"model\", \"moreover\", \"multiple\",\n",
    "        \"necessary\", \"need\", \"needed\", \"new\", \"news\", \"nine\", \"non\", \"note\", \"novel\", \"number\", \"numerical\",\n",
    "        \"objective\", \"observables\", \"observation\", 'obtained', \"often\", \"one\", \"open\", \"operator\", \"optimal\", \"order\",\n",
    "        \"outline\",\n",
    "        \"outlines\", \"output\", \"paper\", \"papr\", \"parameter\", \"part\", \"particular\", \"perform\",\n",
    "        \"performance\", \"performed\", \"performing\", \"performance\", \"phase\", \"point\", \"possible\",\n",
    "        \"potential\", \"pre\", \"precisely\", \"present\", \"previous\", \"principle\", \"problem\", \"process\", \"prof\",\n",
    "        \"proof\", \"proper\", \"property\", \"propose\", \"proposed\", \"proposes\", \"prove\", \"provide\", \"provided\",\n",
    "        \"publicly\", \"publish\", \"purpose\", \"quality\", \"question\", \"range\", \"real\", \"recent\", \"recently\",\n",
    "        \"recommendation\", \"related\", \"representation\", \"require\", \"research\", \"result\", \"rev\", \"review\",\n",
    "        \"right\", \"rigorous\", \"role\", \"scale\", \"scenario\", \"second\", \"section\", \"series\", \"serious\", \"set\", \"setting\",\n",
    "        \"seven\", \"show\", \"significant\", \"significantly\", \"simulation\", \"single\", \"six\", \"solution\", \"state\",\n",
    "        \"strongly\", \"structure\", \"studied\", \"study\", \"sufficient\", \"suggestion\", \"sum\", \"synthesize\", \"system\",\n",
    "        \"table\", \"take\", \"taken\", \"task\", \"technique\", \"ten\", \"term\", \"theorem\", \"theory\", \"third\",\n",
    "        \"though\", \"three\", \"time\", \"topic\", \"two\", \"type\", \"upper\", \"use\", \"used\", \"using\", \"utilize\", \"valid\",\n",
    "        \"value\", \"variable\", \"variety\", \"various\", \"via\", \"view\", \"way\", \"well\", \"whether\", \"wide\", \"widely\", \"within\",\n",
    "        \"without\", \"work\", \"world\", \"written\", \"year\", \"zero\", \"zeroth\"]\n",
    "    stop_words.update(custom_stopwords)\n",
    "    lemmatizer = WordNetLemmatizer()\n",
    "\n",
    "    with open(input_file, 'r') as f:\n",
    "        total_rows = sum(1 for _ in f)\n",
    "\n",
    "    output_exists = os.path.isfile(output_file)\n",
    "\n",
    "    with tqdm(total=total_rows) as pbar:\n",
    "        for chunk in pd.read_json(input_file, lines=True, chunksize=chunk_size):\n",
    "            chunk = chunk[['title', 'abstract', 'categories', 'update_date']].drop_duplicates(\n",
    "                subset=['title', 'abstract'])\n",
    "\n",
    "            chunk['title'] = chunk['title'].apply(preprocess_text, args=(stop_words, lemmatizer))\n",
    "            chunk['abstract'] = chunk['abstract'].apply(preprocess_text, args=(stop_words, lemmatizer))\n",
    "\n",
    "            chunk['text'] = chunk['title'] + ' ' + chunk['abstract']\n",
    "            chunk = chunk.drop(['title', 'abstract'], axis=1)\n",
    "            chunk = chunk[chunk['text'] != '']\n",
    "\n",
    "            chunk['update_date'] = pd.to_datetime(chunk['update_date'])\n",
    "\n",
    "            if not output_exists:\n",
    "                chunk.to_csv(output_file, mode='w', index=False)\n",
    "                output_exists = True\n",
    "            else:\n",
    "                chunk.to_csv(output_file, mode='a', index=False, header=False)\n",
    "\n",
    "            pbar.update(chunk_size)"
   ]
  },
  {
   "cell_type": "code",
   "execution_count": 5,
   "metadata": {},
   "outputs": [
    {
     "name": "stderr",
     "output_type": "stream",
     "text": [
      "[nltk_data] Downloading package wordnet to\n",
      "[nltk_data]     C:\\Users\\moham\\AppData\\Roaming\\nltk_data...\n",
      "[nltk_data]   Package wordnet is already up-to-date!\n",
      "[nltk_data] Downloading package punkt to\n",
      "[nltk_data]     C:\\Users\\moham\\AppData\\Roaming\\nltk_data...\n",
      "[nltk_data]   Package punkt is already up-to-date!\n",
      "2300000it [26:57, 1422.21it/s]                             \n"
     ]
    }
   ],
   "source": [
    "raw_path = '../data/arxiv-metadata-oai.json'\n",
    "processed_path = '../data/data_preprocessed.csv'\n",
    "preprocess_data(raw_path, processed_path)"
   ]
  }
 ],
 "metadata": {
  "kernelspec": {
   "display_name": "env",
   "language": "python",
   "name": "python3"
  },
  "language_info": {
   "codemirror_mode": {
    "name": "ipython",
    "version": 3
   },
   "file_extension": ".py",
   "mimetype": "text/x-python",
   "name": "python",
   "nbconvert_exporter": "python",
   "pygments_lexer": "ipython3",
   "version": "3.10.4"
  },
  "orig_nbformat": 4
 },
 "nbformat": 4,
 "nbformat_minor": 2
}

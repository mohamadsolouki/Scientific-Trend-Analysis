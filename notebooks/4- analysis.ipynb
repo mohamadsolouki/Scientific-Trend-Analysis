{
 "cells": [
  {
   "cell_type": "code",
   "execution_count": null,
   "metadata": {},
   "outputs": [],
   "source": [
    "import pandas as pd\n",
    "import matplotlib.pyplot as plt\n",
    "from collections import Counter\n",
    "import seaborn as sns"
   ]
  },
  {
   "cell_type": "code",
   "execution_count": null,
   "metadata": {},
   "outputs": [],
   "source": [
    "# Specify the input file\n",
    "input_file = '../data/data_clustered.csv'\n",
    "\n",
    "# Load the clustered data\n",
    "df = pd.read_csv(input_file)\n",
    "\n",
    "# Print the first 5 rows\n",
    "df.head()\n",
    "\n",
    "# save sample of data in a new csv file\n",
    "df_sample = df.sample(n=1000)\n",
    "df_sample.to_csv('../data/clustered_data_sample.csv', index=False)"
   ]
  },
  {
   "cell_type": "code",
   "execution_count": null,
   "metadata": {},
   "outputs": [],
   "source": [
    "# Convert string representation of list to actual list\n",
    "df['categories_list'] = df['categories_list'].str.strip('[]').str.split(', ')\n",
    "\n",
    "# Split categories_list into separate columns\n",
    "categories_df = df['categories_list'].apply(pd.Series)\n",
    "\n",
    "# Rename columns\n",
    "max_columns = categories_df.shape[1]\n",
    "categories_df.columns = [f'category_{i+1}' for i in range(max_columns)]\n",
    "\n",
    "# Remove quotes from the columns\n",
    "categories_df = categories_df.applymap(lambda x: x.strip(\"'\") if isinstance(x, str) else x)\n",
    "\n",
    "# Concatenate the original data with the new category columns\n",
    "df = pd.concat([df, categories_df], axis=1)\n",
    "\n",
    "# Display the updated data\n",
    "df.head()"
   ]
  },
  {
   "cell_type": "code",
   "execution_count": null,
   "metadata": {},
   "outputs": [],
   "source": [
    "# Concatenate all category columns to form a single series\n",
    "all_categories = pd.concat([df[f'category_{i+1}'] for i in range(13)]).dropna()\n",
    "\n",
    "# Count the occurrences of each category\n",
    "category_counts = all_categories.value_counts()\n",
    "\n",
    "# Display the top 20 categories\n",
    "top_categories = category_counts.head(20)\n",
    "\n",
    "# Plotting the top 20 categories\n",
    "plt.figure(figsize=(12, 8))\n",
    "top_categories.plot(kind='barh', color='skyblue')\n",
    "plt.title(\"Top 20 Categories in the Dataset\")\n",
    "plt.xlabel(\"Number of Papers\")\n",
    "plt.ylabel(\"Category\")\n",
    "plt.gca().invert_yaxis()\n",
    "plt.show()"
   ]
  },
  {
   "cell_type": "code",
   "execution_count": null,
   "metadata": {},
   "outputs": [],
   "source": [
    "# print each cluster top categories\n",
    "for i in range(9):\n",
    "    cluster = df[df['cluster'] == i]\n",
    "    cluster_categories = pd.concat([cluster[f'category_{i+1}'] for i in range(9)]).dropna()\n",
    "    cluster_category_counts = cluster_categories.value_counts()\n",
    "    cluster_top_categories = cluster_category_counts.head(10)\n",
    "    plt.figure(figsize=(12, 8))\n",
    "    cluster_top_categories.plot(kind='barh', color='skyblue')\n",
    "    plt.title(f\"Top 10 Categories in Cluster {i}\")\n",
    "    plt.xlabel(\"Number of Papers\")\n",
    "    plt.ylabel(\"Category\")\n",
    "    plt.gca().invert_yaxis()\n",
    "    plt.show()"
   ]
  },
  {
   "cell_type": "code",
   "execution_count": null,
   "metadata": {},
   "outputs": [],
   "source": [
    "def get_top_terms_in_cluster(cluster_num, top_n=10):\n",
    "    cluster_texts = df[df['cluster'] == cluster_num]['text']\n",
    "    all_terms = ' '.join(cluster_texts).split()\n",
    "    return Counter(all_terms).most_common(top_n)\n",
    "\n",
    "for cluster_num in df['cluster'].unique():\n",
    "    print(f\"Cluster {cluster_num}: {get_top_terms_in_cluster(cluster_num)}\")"
   ]
  },
  {
   "cell_type": "code",
   "execution_count": null,
   "metadata": {},
   "outputs": [],
   "source": [
    "plt.figure(figsize=(12, 6))\n",
    "sns.countplot(data=df, x='cluster')\n",
    "plt.title('Distribution of Articles Across Clusters')\n",
    "plt.show()"
   ]
  },
  {
   "cell_type": "code",
   "execution_count": null,
   "metadata": {},
   "outputs": [],
   "source": [
    "# Extract the year from the 'update_date' column\n",
    "df['year'] = pd.to_datetime(df['update_date']).dt.year\n",
    "cluster_popularity = df.groupby(['year', 'cluster']).size().reset_index(name='counts')\n",
    "plt.figure(figsize=(15, 7))\n",
    "sns.lineplot(data=cluster_popularity, x='year', y='counts', hue='cluster', palette='tab10', linewidth=2.5, style='cluster', markers=True, dashes=False)\n",
    "plt.title('Yearly Publications by Cluster')\n",
    "plt.show()"
   ]
  },
  {
   "cell_type": "code",
   "execution_count": null,
   "metadata": {},
   "outputs": [],
   "source": [
    "# Split the categories and explode the DataFrame to have one category per row\n",
    "df_categories = df.assign(categories=df['categories_list'].str.split(' ')).explode('categories_list')\n",
    "\n",
    "# Group by year and category, then count the number of articles\n",
    "category_yearly_counts = df_categories.groupby(['year', 'categories_list']).size().reset_index(name='counts')\n",
    "\n",
    "# Plot the top N categories\n",
    "N = 10\n",
    "top_categories = category_yearly_counts.groupby('categories_list')['counts'].sum().nlargest(N).index\n",
    "filtered_counts = category_yearly_counts[category_yearly_counts['categories_list'].isin(top_categories)]\n",
    "\n",
    "plt.figure(figsize=(15, 7))\n",
    "sns.lineplot(data=filtered_counts, x='year', y='counts', hue='categories_list', palette='tab10', linewidth=2.5)\n",
    "plt.title('Yearly Publications by Top Categories')\n",
    "plt.show()\n"
   ]
  },
  {
   "cell_type": "code",
   "execution_count": null,
   "metadata": {},
   "outputs": [],
   "source": [
    "# Analyze the distribution of articles by month and plot them in a heatmap without considering the year\n",
    "df['month'] = pd.to_datetime(df['update_date']).dt.month\n",
    "month_counts = df['month'].value_counts().sort_index()\n",
    "# Convert the series to a dataframe\n",
    "month_counts = month_counts.to_frame()\n",
    "month_counts.columns = ['count']\n",
    "print(month_counts)\n",
    "\n",
    "# show the distribution of articles by month in a heatmap\n",
    "plt.figure(figsize=(12, 6))\n",
    "sns.heatmap(month_counts, annot=True, fmt='g', cmap='Blues')\n",
    "plt.title('Number of Articles Published Each Month')\n",
    "plt.savefig('../images/num_articles_each_month.png')\n",
    "plt.show()\n"
   ]
  },
  {
   "cell_type": "code",
   "execution_count": null,
   "metadata": {},
   "outputs": [],
   "source": [
    "# Calculate the year-on-year growth for each cluster\n",
    "cluster_popularity['yearly_growth'] = cluster_popularity.groupby('cluster')['counts'].pct_change() * 100\n",
    "\n",
    "\n",
    "plt.figure(figsize=(15, 7))\n",
    "sns.lineplot(data=cluster_popularity, x='year', y='yearly_growth', hue='cluster', palette='tab10', linewidth=2.5)\n",
    "plt.title('Yearly Growth Rate of Clusters')\n",
    "plt.show()"
   ]
  },
  {
   "cell_type": "code",
   "execution_count": null,
   "metadata": {},
   "outputs": [],
   "source": [
    "from sklearn.feature_extraction.text import TfidfVectorizer\n",
    "from sklearn.metrics.pairwise import cosine_similarity\n",
    "\n",
    "# Combine all texts in each cluster\n",
    "cluster_texts = df.groupby('cluster')['text'].apply(' '.join)\n",
    "\n",
    "# Compute TF-IDF vectors for each cluster's combined texts\n",
    "vectorizer = TfidfVectorizer()\n",
    "tfidf_matrix = vectorizer.fit_transform(cluster_texts)\n",
    "\n",
    "# Compute cosine similarity between clusters\n",
    "similarity_matrix = cosine_similarity(tfidf_matrix)\n",
    "\n",
    "\n",
    "plt.figure(figsize=(10, 8))\n",
    "sns.heatmap(similarity_matrix, annot=True, fmt=\".2f\", cmap='coolwarm', xticklabels=['1','2','3','4','5','6','7','8'], yticklabels=['1','2','3','4','5','6','7','8'])\n",
    "plt.title('Cosine Similarity Between Clusters')\n",
    "plt.xlabel('Clusters')\n",
    "plt.ylabel('Clusters')\n",
    "plt.show()\n"
   ]
  },
  {
   "cell_type": "code",
   "execution_count": null,
   "metadata": {},
   "outputs": [],
   "source": [
    "# Extract the year from the 'update_date' column\n",
    "df['year'] = pd.to_datetime(df['update_date']).dt.year\n",
    "\n",
    "# Analyze the distribution of articles over time\n",
    "year_counts = df['year'].value_counts().sort_index()\n",
    "print(year_counts)\n",
    "\n",
    "# Analyze the distribution of clusters over time\n",
    "cluster_year_counts = df.groupby('year')['cluster'].value_counts()\n",
    "print(cluster_year_counts)\n"
   ]
  },
  {
   "cell_type": "code",
   "execution_count": null,
   "metadata": {},
   "outputs": [],
   "source": [
    "# Papers with more than one category can be considered interdisciplinary\n",
    "interdisciplinary_papers = df[df['num_categories'] > 1]\n",
    "\n",
    "# Count interdisciplinary papers in each cluster\n",
    "interdisciplinary_counts = interdisciplinary_papers['cluster'].value_counts().sort_index()\n",
    "\n",
    "plt.figure(figsize=(12, 6))\n",
    "interdisciplinary_counts.plot(kind='bar', color='skyblue')\n",
    "plt.title('Number of Interdisciplinary Papers by Cluster')\n",
    "plt.xlabel('Cluster')\n",
    "plt.ylabel('Count')\n",
    "plt.show()"
   ]
  },
  {
   "cell_type": "code",
   "execution_count": null,
   "metadata": {},
   "outputs": [],
   "source": [
    "for cluster_num in df['cluster'].unique():\n",
    "    cluster_text = ' '.join(df[df['cluster'] == cluster_num]['text'])\n",
    "    wordcloud = WordCloud(width=1000, height=500, background_color='white').generate(cluster_text)\n",
    "    plt.figure(figsize=(10, 5))\n",
    "    plt.imshow(wordcloud, interpolation='bilinear')\n",
    "    plt.axis('off')\n",
    "    plt.title(f'Word Cloud for Cluster {cluster_num}')\n",
    "    plt.show()\n"
   ]
  }
 ],
 "metadata": {
  "kernelspec": {
   "display_name": "venv",
   "language": "python",
   "name": "python3"
  },
  "language_info": {
   "codemirror_mode": {
    "name": "ipython",
    "version": 3
   },
   "file_extension": ".py",
   "mimetype": "text/x-python",
   "name": "python",
   "nbconvert_exporter": "python",
   "pygments_lexer": "ipython3",
   "version": "3.10.4"
  },
  "orig_nbformat": 4
 },
 "nbformat": 4,
 "nbformat_minor": 2
}

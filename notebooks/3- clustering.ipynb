{
 "cells": [
  {
   "cell_type": "markdown",
   "metadata": {},
   "source": [
    "# Arxiv Dataset Clustering\n",
    "This notebook aims to cluster scholarly articles from the Arxiv dataset."
   ]
  },
  {
   "cell_type": "markdown",
   "metadata": {},
   "source": [
    "# Import necessary libraries"
   ]
  },
  {
   "cell_type": "code",
   "execution_count": null,
   "metadata": {},
   "outputs": [],
   "source": [
    "import pandas as pd\n",
    "import numpy as np\n",
    "from sklearn.feature_extraction.text import TfidfVectorizer\n",
    "from sklearn.decomposition import PCA\n",
    "from sklearn.cluster import KMeans\n",
    "from sklearn.metrics import silhouette_score, davies_bouldin_score\n",
    "from sklearn.manifold import TSNE\n",
    "import matplotlib.pyplot as plt\n",
    "import seaborn as sns\n"
   ]
  },
  {
   "cell_type": "markdown",
   "metadata": {},
   "source": [
    "## Load and Preview Data"
   ]
  },
  {
   "cell_type": "code",
   "execution_count": null,
   "metadata": {},
   "outputs": [],
   "source": [
    "input_file = 'data_preprocessed.csv'\n",
    "df = pd.read_csv(input_file)\n",
    "print(df.shape[0])\n",
    "df.head()"
   ]
  },
  {
   "cell_type": "markdown",
   "metadata": {},
   "source": [
    "## Text Vectorization"
   ]
  },
  {
   "cell_type": "code",
   "execution_count": null,
   "metadata": {},
   "outputs": [],
   "source": [
    "stop_words = set(stopwords.words('english'))\n",
    "custom_stopwords = [\n",
    "        \"ability\", \"able\", \"absolute\", \"absolutely\", \"account\", \"accurate\", \"achieve\", \"address\",\n",
    "        \"allowing\", \"also\", \"analyze\", \"analyzes\", \"answer\", \"application\", \"approach\",\n",
    "        \"around\", \"art\", \"article\", \"aspect\", \"audience\", \"author\", \"available\", \"based\", \"begin\", \"best\", \"better\",\n",
    "        \"beyond\", \"bound\", \"brief\", \"called\", \"capable\", \"capture\", \"carefully\", \"case\", \"certain\", \"challenging\",\n",
    "        \"compare\", \"compared\" \"complex\", \"component\", \"comprehensive\", \"concept\", \"conceptual\",\n",
    "        \"conclusion\", \"condition\", \"conduct\", \"conjecture\", \"consider\", \"construct\", \"content\", \"context\", \"cost\",\n",
    "        \"cross\", \"crucial\", \"current\", \"demonstrate\", \"derive\", \"derived\", \"describe\",\n",
    "        \"described\", \"describes\", \"detailed\", \"determine\", \"developed\", \"different\", \"difficult\", \"directly\",\n",
    "        \"discourse\", \"discuss\", \"distinguish\", \"driven\", \"due\", \"effect\", \"effective\", \"efficient\", \"efficiently\",\n",
    "        \"eight\", \"element\", \"emphasis\", \"end\", \"enhanced\", \"evaluate\", \"even\", \"example\", \"existing\", \"experiment\", \"experimental\",\n",
    "        \"explain\", \"extensive\", \"family\", \"feature\", \"figure\", \"finally\", \"find\", \"fine\", \"finite\", \"finitely\", \"first\",\n",
    "        \"fit\", \"five\", \"found\", \"four\", \"form\", \"framework\", \"function\", \"fundamental\", \"future\", \"general\", \"give\",\n",
    "        \"given\", \"good\", \"grained\", \"graph\", \"group\", \"handed\", \"high\", \"higher\", \"however\", \"illustrate\", \"impact\",\n",
    "        \"implement\", \"important\", \"include\", \"included\", \"including\", \"integrate\", \"interest\", \"introduce\", \"introduced\", \"introduction\",\n",
    "        \"investigate\", \"issue\", \"iteration\", \"known\", \"large\", \"last\", \"leading\", \"left\", \"let\", \"like\", \"long\", \"low\", \"lower\", \"make\",\n",
    "        \"many\", \"maximal\", \"may\", \"method\", \"methodology\", \"minimal\", \"model\", \"moreover\", \"multiple\",\n",
    "        \"necessary\", \"need\", \"needed\", \"new\", \"news\", \"next\", \"nine\", \"non\", \"note\", \"novel\", \"number\", \"numerical\",\n",
    "        \"objective\", \"observables\", \"observation\", \"obtain\", 'obtained', \"often\", \"one\", \"open\", \"operator\", \"optimal\", \"order\",\n",
    "        \"outline\", \"outlines\", \"output\", \"paper\", \"papr\", \"parameter\", \"part\", \"particular\", \"perform\",\n",
    "        \"performance\", \"performed\", \"performing\", \"performance\", \"phase\", \"point\", \"possible\",\n",
    "        \"potential\", \"pre\", \"precisely\", \"present\", \"previous\", \"principle\", \"problem\", \"process\", \"prof\",\n",
    "        \"proof\", \"proper\", \"property\", \"propose\", \"proposed\", \"proposes\", \"prove\", \"provide\", \"provided\", \"provides\",\n",
    "        \"publicly\", \"publish\", \"purpose\", \"quality\", \"question\", \"range\", \"real\", \"recent\", \"recently\",\n",
    "        \"recommendation\", \"related\", \"reliable\", \"representation\", \"require\", \"research\", \"result\", \"rev\", \"review\",\n",
    "        \"right\", \"rigorous\", \"role\", \"scale\", \"scenario\", \"second\", \"section\", \"selection\", \"series\", \"serious\", \"set\", \"setting\",\n",
    "        \"seven\", \"several\", \"show\", \"shown\", \"significant\", \"significantly\", \"simulation\", \"simple\", \"single\", \"six\", \"solution\", \"state\",\n",
    "        \"strongly\", \"structure\", \"studied\", \"study\", \"sufficient\", \"suggestion\", \"sum\", \"synthesize\", \"system\",\n",
    "        \"table\", \"take\", \"taken\", \"task\", \"technique\", \"ten\", \"term\", \"theorem\", \"theory\", \"third\",\n",
    "        \"though\", \"three\", \"thus\", \"time\", \"topic\", \"two\", \"type\", \"upper\", \"use\", \"used\", \"using\", \"utilize\", \"valid\",\n",
    "        \"value\", \"variable\", \"variety\", \"various\", \"via\", \"view\", \"way\", \"well\", \"whether\", \"wide\", \"widely\", \"within\",\n",
    "        \"without\", \"work\", \"world\", \"written\", \"year\", \"zero\", \"zeroth\"]\n",
    "stop_words.update(custom_stopwords)\n",
    "\n",
    "tfidf_vectorizer = TfidfVectorizer(\n",
    "    ngram_range=(2, 2),  # Use both unigrams and bigrams\n",
    "    max_features=1500,   # Limit the number of features\n",
    "    stop_words=stop_words, # Remove common English stop words\n",
    "    sublinear_tf=True     # Apply sublinear scaling\n",
    ")\n",
    "\n",
    "# Fit and transform the text data to a TF-IDF matrix\n",
    "tfidf_matrix = tfidf_vectorizer.fit_transform(df['text'])\n"
   ]
  },
  {
   "cell_type": "code",
   "execution_count": null,
   "metadata": {},
   "outputs": [],
   "source": [
    "# Show top 50 features (unigrams and bigrams)\n",
    "feature_names = np.array(tfidf_vectorizer.get_feature_names())\n",
    "sorted_indices = np.argsort(tfidf_vectorizer.idf_)\n",
    "top_features = feature_names[sorted_indices[:50]]\n",
    "top_features_df = pd.DataFrame(top_features, columns=['Top 50 Features'])\n",
    "print(top_features_df)"
   ]
  },
  {
   "cell_type": "markdown",
   "metadata": {},
   "source": [
    "## Dimensionality Reduction"
   ]
  },
  {
   "cell_type": "code",
   "execution_count": null,
   "metadata": {},
   "outputs": [],
   "source": [
    "# Apply PCA\n",
    "pca = PCA(n_components=150)  # Choose the number of components\n",
    "pca_matrix = pca.fit_transform(tfidf_matrix.toarray())"
   ]
  },
  {
   "cell_type": "markdown",
   "metadata": {},
   "source": [
    "## Determine Optimal Clusters"
   ]
  },
  {
   "cell_type": "code",
   "execution_count": null,
   "metadata": {},
   "outputs": [],
   "source": [
    "def check_clustering(X, K):\n",
    "    # Taking a random sample of 5% of the data\n",
    "    sample_indices = np.random.choice(X.shape[0], int(0.01 * X.shape[0]), replace=False)\n",
    "    X_sample = X[sample_indices]\n",
    "\n",
    "    sse,db,slc = {}, {}, {}\n",
    "    for k in range(2, K):\n",
    "        # seed of 10 for reproducibility.\n",
    "        kmeans = KMeans(n_clusters=k, max_iter=1000, random_state=42, n_init=10).fit(X_sample)\n",
    "        clusters = kmeans.labels_\n",
    "        sse[k] = kmeans.inertia_ # Inertia: Sum of distances of samples to their closest cluster center\n",
    "        db[k] = davies_bouldin_score(X_sample,clusters)\n",
    "        slc[k] = silhouette_score(X_sample,clusters)\n",
    "\n",
    "\n",
    "    plt.figure(figsize=(15,10))\n",
    "    plt.plot(list(sse.keys()), list(sse.values()), marker='o', linestyle='-', color='r')\n",
    "    plt.xlabel(\"Number of cluster\")\n",
    "    plt.ylabel(\"SSE\")\n",
    "    plt.grid(True)\n",
    "    plt.show()\n",
    "\n",
    "    plt.figure(figsize=(15,10))\n",
    "    plt.plot(list(db.keys()), list(db.values()), marker='o', linestyle='-', color='g')\n",
    "    plt.xlabel(\"Number of cluster\")\n",
    "    plt.ylabel(\"Davies-Bouldin values\")\n",
    "    plt.grid(True)\n",
    "    plt.show()\n",
    "\n",
    "    plt.figure(figsize=(15,10))\n",
    "    plt.plot(list(slc.keys()), list(slc.values()), marker='o', linestyle='-', color='b')\n",
    "    plt.xlabel(\"Number of cluster\")\n",
    "    plt.ylabel(\"Silhouette score\")\n",
    "    plt.grid(True)\n",
    "    plt.show()\n",
    "\n",
    "\n",
    "# Call the function to check clustering\n",
    "check_clustering(pca_matrix, 16)"
   ]
  },
  {
   "cell_type": "markdown",
   "metadata": {},
   "source": [
    "## Apply Clustering"
   ]
  },
  {
   "cell_type": "code",
   "execution_count": null,
   "metadata": {},
   "outputs": [],
   "source": [
    "def apply_clustering(X, n_clusters):\n",
    "    kmeans = KMeans(n_clusters=n_clusters, n_init=10, random_state=42)\n",
    "    clusters = kmeans.fit_predict(X)\n",
    "    return clusters\n",
    "\n",
    "optimal_clusters = 9  # Adjusted based on observation.\n",
    "df['cluster'] = apply_clustering(pca_matrix, optimal_clusters)"
   ]
  },
  {
   "cell_type": "markdown",
   "metadata": {},
   "source": [
    "## Visualizing Clusters"
   ]
  },
  {
   "cell_type": "code",
   "execution_count": null,
   "metadata": {},
   "outputs": [],
   "source": [
    "# 1. Distribution of Data Points in Clusters\n",
    "plt.figure(figsize=(10, 6))\n",
    "sns.countplot(data=df, x='cluster', palette='tab20')\n",
    "plt.title('Number of Data Points in Each Cluster')\n",
    "plt.xlabel('Cluster')\n",
    "plt.ylabel('Count')\n",
    "plt.show()"
   ]
  },
  {
   "cell_type": "code",
   "execution_count": null,
   "metadata": {},
   "outputs": [],
   "source": [
    "# 2. PCA Plot (2D)\n",
    "plt.figure(figsize=(10, 6))\n",
    "sns.scatterplot(x=pca_matrix[:, 0], y=pca_matrix[:, 1], hue=df['cluster'], palette='tab20', s=20)\n",
    "plt.title('2D PCA Plot')\n",
    "plt.xlabel('First Principal Component')\n",
    "plt.ylabel('Second Principal Component')\n",
    "plt.show()"
   ]
  },
  {
   "cell_type": "code",
   "execution_count": null,
   "metadata": {},
   "outputs": [],
   "source": [
    "from mpl_toolkits.mplot3d import Axes3D\n",
    "\n",
    "# Initialize a 3D plot\n",
    "fig = plt.figure(figsize=(12, 9))\n",
    "ax = fig.add_subplot(111, projection='3d')\n",
    "\n",
    "# Scatter plot\n",
    "scatter = ax.scatter(pca_matrix[:, 0], pca_matrix[:, 1], pca_matrix[:, 2], \n",
    "                     c=df['cluster'], cmap='tab20', s=20)\n",
    "\n",
    "ax.set_xlim([-0.25, 0.25])\n",
    "ax.set_ylim([-0.25, 0.25])\n",
    "ax.set_zlim([-0.25, 0.25])\n",
    "\n",
    "# Add colorbar and labels\n",
    "colorbar = plt.colorbar(scatter)\n",
    "ax.set_title('3D PCA Plot')\n",
    "ax.set_xlabel('First Principal Component')\n",
    "ax.set_ylabel('Second Principal Component')\n",
    "ax.set_zlabel('Third Principal Component')\n",
    "\n",
    "plt.show()"
   ]
  },
  {
   "cell_type": "markdown",
   "metadata": {},
   "source": [
    "## Save Results"
   ]
  },
  {
   "cell_type": "code",
   "execution_count": null,
   "metadata": {},
   "outputs": [],
   "source": [
    "output_file = '../data/data_clustered.csv'\n",
    "df.to_csv(output_file, index=False)"
   ]
  }
 ],
 "metadata": {
  "kernelspec": {
   "display_name": "env",
   "language": "python",
   "name": "python3"
  },
  "language_info": {
   "codemirror_mode": {
    "name": "ipython",
    "version": 3
   },
   "file_extension": ".py",
   "mimetype": "text/x-python",
   "name": "python",
   "nbconvert_exporter": "python",
   "pygments_lexer": "ipython3",
   "version": "3.10.4"
  },
  "orig_nbformat": 4
 },
 "nbformat": 4,
 "nbformat_minor": 2
}

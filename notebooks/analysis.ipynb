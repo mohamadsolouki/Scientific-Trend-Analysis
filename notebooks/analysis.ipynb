{
 "cells": [
  {
   "cell_type": "code",
   "execution_count": null,
   "metadata": {},
   "outputs": [],
   "source": [
    "import pandas as pd\n",
    "from wordcloud import WordCloud\n",
    "import matplotlib.pyplot as plt\n",
    "from collections import Counter"
   ]
  },
  {
   "cell_type": "code",
   "execution_count": null,
   "metadata": {},
   "outputs": [],
   "source": [
    "# Specify the input file\n",
    "input_file = '../data/data_clustered.csv'\n",
    "\n",
    "# Load the clustered data\n",
    "df = pd.read_csv(input_file)\n",
    "\n",
    "# Print the first 5 rows\n",
    "df.head()"
   ]
  },
  {
   "cell_type": "code",
   "execution_count": null,
   "metadata": {},
   "outputs": [],
   "source": [
    "# Analyze the distribution of clusters\n",
    "cluster_counts = df['cluster'].value_counts().sort_index()\n",
    "print(cluster_counts)\n",
    "\n",
    "# Generate word clouds for each cluster\n",
    "for cluster in cluster_counts.index:\n",
    "    text = ' '.join(df[df['cluster'] == cluster]['text'])\n",
    "    wordcloud = WordCloud(width=800, height=400).generate(text)\n",
    "    plt.figure(figsize=(10, 7))\n",
    "    plt.imshow(wordcloud, interpolation='bilinear')\n",
    "    plt.axis('off')\n",
    "    plt.title(f'Cluster {cluster}')\n",
    "    plt.show()\n",
    "\n",
    "# print five frequent words in each cluster in a table where each row is a cluster and each column is a word\n",
    "for cluster in cluster_counts.index:\n",
    "    text = ' '.join(df[df['cluster'] == cluster]['text'])\n",
    "    word_counts = Counter(text.split()).most_common(5)\n",
    "    print(f'Cluster {cluster}: {word_counts}')"
   ]
  },
  {
   "cell_type": "code",
   "execution_count": null,
   "metadata": {},
   "outputs": [],
   "source": [
    "# Extract the year from the 'update_date' column\n",
    "df['year'] = pd.to_datetime(df['update_date']).dt.year\n",
    "\n",
    "# Analyze the distribution of articles over time\n",
    "year_counts = df['year'].value_counts().sort_index()\n",
    "# Convert the series to a dataframe\n",
    "year_counts = year_counts.to_frame()\n",
    "year_counts.columns = ['count']\n",
    "print(year_counts)\n",
    "\n",
    "# Plot the distribution of articles over time\n",
    "year_counts.plot(kind='bar', figsize=(15, 8), title='Distribution of articles over time')\n",
    "plt.show()"
   ]
  },
  {
   "cell_type": "code",
   "execution_count": null,
   "metadata": {},
   "outputs": [],
   "source": [
    "# show the distribution of primary categories of each year using bar charts \n",
    "fig, axes = plt.subplots(4, 4, figsize=(15, 20))\n",
    "for i, ax in enumerate(axes.flatten()):\n",
    "    df[df['year'] == 2008 + i]['primary_category'].value_counts().head(5).plot(kind='bar', ax=ax, title=f'Year {2008 + i}')\n",
    "plt.tight_layout()\n",
    "plt.ylabel('Number of articles')\n",
    "plt.xlabel('Primary category')\n",
    "plt.show()"
   ]
  },
  {
   "cell_type": "code",
   "execution_count": null,
   "metadata": {},
   "outputs": [],
   "source": [
    "# Visualize the distribution of clusters\n",
    "cluster_counts.plot(kind='bar')\n",
    "plt.xlabel('Cluster')\n",
    "plt.ylabel('Number of Articles')\n",
    "plt.title('Distribution of Clusters')\n",
    "plt.show()"
   ]
  },
  {
   "cell_type": "code",
   "execution_count": null,
   "metadata": {},
   "outputs": [],
   "source": [
    "# Visualize the distribution of articles over time\n",
    "year_counts.plot(kind='bar')\n",
    "plt.xlabel('Year')\n",
    "plt.ylabel('Number of Articles')\n",
    "plt.title('Distribution of Articles Over Time')\n",
    "plt.show()"
   ]
  },
  {
   "cell_type": "code",
   "execution_count": null,
   "metadata": {},
   "outputs": [],
   "source": [
    "# Visualize the distribution of clusters over time\n",
    "cluster_year_counts.unstack().plot(kind='bar', stacked=True, figsize=(12, 7))\n",
    "plt.xlabel('Year')\n",
    "plt.ylabel('Number of Articles')\n",
    "plt.title('Distribution of Clusters Over Time')\n",
    "plt.legend(title='Cluster')\n",
    "plt.show()"
   ]
  },
  {
   "cell_type": "code",
   "execution_count": null,
   "metadata": {},
   "outputs": [],
   "source": [
    "# Visualize the distribution of primary categories over time\n",
    "top_categories = df['primary_category'].value_counts().index[:10]\n",
    "category_year_counts = df[df['primary_category'].isin(top_categories)].groupby(['year', 'primary_category'])['primary_category'].count().to_frame()\n",
    "category_year_counts.columns = ['count']\n",
    "category_year_counts = category_year_counts.reset_index()\n",
    "category_year_counts = category_year_counts.pivot(index='year', columns='primary_category', values='count')\n",
    "category_year_counts.plot(kind='bar', stacked=True, figsize=(12, 7))\n",
    "plt.xlabel('Year')\n",
    "plt.ylabel('Number of Articles')\n",
    "plt.title('Distribution of Primary Categories Over Time')\n",
    "plt.legend(title='Primary Category')\n",
    "plt.show()"
   ]
  }
 ],
 "metadata": {
  "kernelspec": {
   "display_name": "venv",
   "language": "python",
   "name": "python3"
  },
  "language_info": {
   "codemirror_mode": {
    "name": "ipython",
    "version": 3
   },
   "file_extension": ".py",
   "mimetype": "text/x-python",
   "name": "python",
   "nbconvert_exporter": "python",
   "pygments_lexer": "ipython3",
   "version": "3.10.4"
  },
  "orig_nbformat": 4
 },
 "nbformat": 4,
 "nbformat_minor": 2
}
